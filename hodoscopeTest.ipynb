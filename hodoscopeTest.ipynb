{
 "cells": [
  {
   "cell_type": "markdown",
   "id": "20686ab8",
   "metadata": {},
   "source": [
    "## Layers and hodoscopes\n",
    "\n",
    "\n",
    "The default *layer* class `PanelDetectorLayer` in TomOpt uses multiple *panels* `DetectorPanel` to record muon position.\n",
    "\n",
    "`PanelDetectorLayer` inherits from the `AbsDetectorLayer` and **MUST** provide the following **methods**:\n",
    "\n",
    " - `forward`: The forward method to propagate the muons. It is a central aspect of `nn.Module`.\n",
    " - `get_cost`\n",
    " - `conform_detector`\n",
    "  - `assign_budget`\n",
    "\n",
    "and the following **features**:\n",
    "\n",
    " - `pos`: the position of the layer, either `above` or `bellow`. \n",
    " - `lw`: the length and width of the layer.\n",
    " - `z`: the z position of the top of gthe layer. \n",
    " - `size`: the heigth of the layer such that z - size is the bottom of the layer.\n",
    " - `device`: torch.device."
   ]
  },
  {
   "cell_type": "code",
   "execution_count": 15,
   "id": "d203feff",
   "metadata": {},
   "outputs": [
    {
     "ename": "AttributeError",
     "evalue": "'Hodoscope' object has no attribute 'smooth'",
     "output_type": "error",
     "traceback": [
      "\u001b[1;31m---------------------------------------------------------------------------\u001b[0m",
      "\u001b[1;31mAttributeError\u001b[0m                            Traceback (most recent call last)",
      "\u001b[1;32m<ipython-input-15-b62eacdddfe1>\u001b[0m in \u001b[0;36m<module>\u001b[1;34m\u001b[0m\n\u001b[0;32m      9\u001b[0m                  panel_type = 'DetectorPanel')\n\u001b[0;32m     10\u001b[0m \u001b[1;33m\u001b[0m\u001b[0m\n\u001b[1;32m---> 11\u001b[1;33m hod2 = Hodoscope(smooth=0.5,\n\u001b[0m\u001b[0;32m     12\u001b[0m                  \u001b[0minit_xyz\u001b[0m \u001b[1;33m=\u001b[0m \u001b[1;33m[\u001b[0m\u001b[1;36m0.25\u001b[0m\u001b[1;33m,\u001b[0m \u001b[1;36m0.25\u001b[0m\u001b[1;33m,\u001b[0m \u001b[1;36m0.6\u001b[0m\u001b[1;33m]\u001b[0m\u001b[1;33m,\u001b[0m\u001b[1;33m\u001b[0m\u001b[1;33m\u001b[0m\u001b[0m\n\u001b[0;32m     13\u001b[0m                  \u001b[0minit_xyz_span\u001b[0m \u001b[1;33m=\u001b[0m \u001b[1;33m[\u001b[0m\u001b[1;36m1.\u001b[0m\u001b[1;33m,\u001b[0m \u001b[1;36m1.\u001b[0m\u001b[1;33m,\u001b[0m \u001b[1;36m.3\u001b[0m\u001b[1;33m]\u001b[0m\u001b[1;33m,\u001b[0m\u001b[1;33m\u001b[0m\u001b[1;33m\u001b[0m\u001b[0m\n",
      "\u001b[1;32mc:\\Users\\samue\\project\\TomOptCargo\\hodoscope.py\u001b[0m in \u001b[0;36m__init__\u001b[1;34m(self, init_xyz, init_xyz_span, xyz_gap, n_panels, res, eff, m2_cost, budget, realistic_validation, panel_type, smooth, device)\u001b[0m\n\u001b[0;32m     35\u001b[0m         \u001b[0mself\u001b[0m\u001b[1;33m.\u001b[0m\u001b[0meff\u001b[0m \u001b[1;33m=\u001b[0m \u001b[0meff\u001b[0m\u001b[1;33m\u001b[0m\u001b[1;33m\u001b[0m\u001b[0m\n\u001b[0;32m     36\u001b[0m         \u001b[0mself\u001b[0m\u001b[1;33m.\u001b[0m\u001b[0mpanel_type\u001b[0m \u001b[1;33m=\u001b[0m \u001b[0mpanel_type\u001b[0m\u001b[1;33m\u001b[0m\u001b[1;33m\u001b[0m\u001b[0m\n\u001b[1;32m---> 37\u001b[1;33m         \u001b[0mself\u001b[0m\u001b[1;33m.\u001b[0m\u001b[0msmooth\u001b[0m \u001b[1;33m=\u001b[0m \u001b[0msmooth\u001b[0m\u001b[1;33m\u001b[0m\u001b[1;33m\u001b[0m\u001b[0m\n\u001b[0m\u001b[0;32m     38\u001b[0m         \u001b[0mself\u001b[0m\u001b[1;33m.\u001b[0m\u001b[0mpanels\u001b[0m \u001b[1;33m=\u001b[0m \u001b[0mself\u001b[0m\u001b[1;33m.\u001b[0m\u001b[0mgenerate_init_panels\u001b[0m\u001b[1;33m(\u001b[0m\u001b[1;33m)\u001b[0m\u001b[1;33m\u001b[0m\u001b[1;33m\u001b[0m\u001b[0m\n\u001b[0;32m     39\u001b[0m         \u001b[0mself\u001b[0m\u001b[1;33m.\u001b[0m\u001b[0mdevice\u001b[0m \u001b[1;33m=\u001b[0m \u001b[0mdevice\u001b[0m\u001b[1;33m\u001b[0m\u001b[1;33m\u001b[0m\u001b[0m\n",
      "\u001b[1;32mc:\\Users\\samue\\project\\TomOptCargo\\hodoscope.py\u001b[0m in \u001b[0;36mgenerate_init_panels\u001b[1;34m(self)\u001b[0m\n\u001b[0;32m     65\u001b[0m         \u001b[1;32mif\u001b[0m \u001b[0mself\u001b[0m\u001b[1;33m.\u001b[0m\u001b[0mpanel_type\u001b[0m \u001b[1;33m==\u001b[0m \u001b[1;34m'SigmoidDetectorPanel'\u001b[0m\u001b[1;33m:\u001b[0m\u001b[1;33m\u001b[0m\u001b[1;33m\u001b[0m\u001b[0m\n\u001b[0;32m     66\u001b[0m             return nn.ModuleList(\n\u001b[1;32m---> 67\u001b[1;33m                 [SigmoidDetectorPanel(smooth = self.smooth,\n\u001b[0m\u001b[0;32m     68\u001b[0m                             \u001b[0mres\u001b[0m \u001b[1;33m=\u001b[0m \u001b[0mself\u001b[0m\u001b[1;33m.\u001b[0m\u001b[0mres\u001b[0m\u001b[1;33m,\u001b[0m\u001b[1;33m\u001b[0m\u001b[1;33m\u001b[0m\u001b[0m\n\u001b[0;32m     69\u001b[0m                             \u001b[0meff\u001b[0m \u001b[1;33m=\u001b[0m \u001b[0mself\u001b[0m\u001b[1;33m.\u001b[0m\u001b[0meff\u001b[0m\u001b[1;33m,\u001b[0m\u001b[1;33m\u001b[0m\u001b[1;33m\u001b[0m\u001b[0m\n",
      "\u001b[1;32mc:\\Users\\samue\\project\\TomOptCargo\\hodoscope.py\u001b[0m in \u001b[0;36m<listcomp>\u001b[1;34m(.0)\u001b[0m\n\u001b[0;32m     65\u001b[0m         \u001b[1;32mif\u001b[0m \u001b[0mself\u001b[0m\u001b[1;33m.\u001b[0m\u001b[0mpanel_type\u001b[0m \u001b[1;33m==\u001b[0m \u001b[1;34m'SigmoidDetectorPanel'\u001b[0m\u001b[1;33m:\u001b[0m\u001b[1;33m\u001b[0m\u001b[1;33m\u001b[0m\u001b[0m\n\u001b[0;32m     66\u001b[0m             return nn.ModuleList(\n\u001b[1;32m---> 67\u001b[1;33m                 [SigmoidDetectorPanel(smooth = self.smooth,\n\u001b[0m\u001b[0;32m     68\u001b[0m                             \u001b[0mres\u001b[0m \u001b[1;33m=\u001b[0m \u001b[0mself\u001b[0m\u001b[1;33m.\u001b[0m\u001b[0mres\u001b[0m\u001b[1;33m,\u001b[0m\u001b[1;33m\u001b[0m\u001b[1;33m\u001b[0m\u001b[0m\n\u001b[0;32m     69\u001b[0m                             \u001b[0meff\u001b[0m \u001b[1;33m=\u001b[0m \u001b[0mself\u001b[0m\u001b[1;33m.\u001b[0m\u001b[0meff\u001b[0m\u001b[1;33m,\u001b[0m\u001b[1;33m\u001b[0m\u001b[1;33m\u001b[0m\u001b[0m\n",
      "\u001b[1;32mc:\\Users\\samue\\anaconda3\\lib\\site-packages\\torch\\nn\\modules\\module.py\u001b[0m in \u001b[0;36m__getattr__\u001b[1;34m(self, name)\u001b[0m\n\u001b[0;32m   1267\u001b[0m             \u001b[1;32mif\u001b[0m \u001b[0mname\u001b[0m \u001b[1;32min\u001b[0m \u001b[0mmodules\u001b[0m\u001b[1;33m:\u001b[0m\u001b[1;33m\u001b[0m\u001b[1;33m\u001b[0m\u001b[0m\n\u001b[0;32m   1268\u001b[0m                 \u001b[1;32mreturn\u001b[0m \u001b[0mmodules\u001b[0m\u001b[1;33m[\u001b[0m\u001b[0mname\u001b[0m\u001b[1;33m]\u001b[0m\u001b[1;33m\u001b[0m\u001b[1;33m\u001b[0m\u001b[0m\n\u001b[1;32m-> 1269\u001b[1;33m         raise AttributeError(\"'{}' object has no attribute '{}'\".format(\n\u001b[0m\u001b[0;32m   1270\u001b[0m             type(self).__name__, name))\n\u001b[0;32m   1271\u001b[0m \u001b[1;33m\u001b[0m\u001b[0m\n",
      "\u001b[1;31mAttributeError\u001b[0m: 'Hodoscope' object has no attribute 'smooth'"
     ]
    }
   ],
   "source": [
    "from torch import Tensor\n",
    "# from torch import nn\n",
    "from hodoscope import Hodoscope\n",
    "from hodoscopelayer import HodoscopeDetectorLayer\n",
    "\n",
    "hod1 = Hodoscope(init_xyz= [.5, .5, 1.], \n",
    "                 init_xyz_span = [1., 1., .3], \n",
    "                 xyz_gap = [.1, .1, .1],\n",
    "                 panel_type = 'DetectorPanel')\n",
    "\n",
    "hod2 = Hodoscope(smooth=0.5,\n",
    "                 init_xyz = [0.25, 0.25, 0.6], \n",
    "                 init_xyz_span = [1., 1., .3], \n",
    "                 xyz_gap = [.1, .1, .1])\n",
    "\n",
    "\n",
    "hods = [hod1, hod2]\n",
    "\n",
    "hod_detector_above = HodoscopeDetectorLayer(pos = 'above', lw = Tensor([1,1]), z = 1., size = 0.5, \n",
    "                                            hodoscopes = hods)\n",
    "\n"
   ]
  },
  {
   "cell_type": "code",
   "execution_count": null,
   "id": "3b5c4dd7",
   "metadata": {},
   "outputs": [],
   "source": []
  }
 ],
 "metadata": {
  "kernelspec": {
   "display_name": "Python (tomopt)",
   "language": "python",
   "name": "tomopt"
  },
  "language_info": {
   "codemirror_mode": {
    "name": "ipython",
    "version": 3
   },
   "file_extension": ".py",
   "mimetype": "text/x-python",
   "name": "python",
   "nbconvert_exporter": "python",
   "pygments_lexer": "ipython3",
   "version": "3.8.3"
  }
 },
 "nbformat": 4,
 "nbformat_minor": 5
}
