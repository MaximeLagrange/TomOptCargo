{
 "cells": [
  {
   "cell_type": "markdown",
   "id": "20686ab8",
   "metadata": {},
   "source": [
    "## Layers and hodoscopes\n",
    "\n",
    "\n",
    "The default *layer* class `PanelDetectorLayer` in TomOpt uses multiple *panels* `DetectorPanel` to record muon position.\n",
    "\n",
    "`PanelDetectorLayer` inherits from the `AbsDetectorLayer` and **MUST** provide the following **methods**:\n",
    "\n",
    " - `forward`: The forward method to propagate the muons. It is a central aspect of `nn.Module`.\n",
    " - `get_cost`\n",
    " - `conform_detector`\n",
    "  - `assign_budget`\n",
    "\n",
    "and the following **features**:\n",
    "\n",
    " - `pos`: the position of the layer, either `above` or `bellow`. \n",
    " - `lw`: the length and width of the layer.\n",
    " - `z`: the z position of the top of gthe layer. \n",
    " - `size`: the heigth of the layer such that z - size is the bottom of the layer.\n",
    " - `device`: torch.device."
   ]
  },
  {
   "cell_type": "code",
   "execution_count": 1,
   "id": "d203feff",
   "metadata": {},
   "outputs": [],
   "source": [
    "from torch import Tensor\n",
    "# from torch import nn\n",
    "from hodoscope import Hodoscope\n",
    "from hodoscopelayer import HodoscopeDetectorLayer\n",
    "\n",
    "hod1 = Hodoscope(init_xyz= [.5, .5, 1.], \n",
    "                 init_xyz_span = [1., 1., .3], \n",
    "                 xyz_gap = [.1, .1, .1])\n",
    "\n",
    "hod2 = Hodoscope(init_xyz = [0.25, 0.25, 0.6], \n",
    "                 init_xyz_span = [1., 1., .3], \n",
    "                 xyz_gap = [.1, .1, .1])\n",
    "\n",
    "\n",
    "hods = [hod1, hod2]\n",
    "\n",
    "hod_detector_above = HodoscopeDetectorLayer(pos = 'above', lw = Tensor([1,1]), z = 1., size = 0.5, \n",
    "                                            hodoscopes = hods)\n",
    "\n"
   ]
  }
 ],
 "metadata": {
  "kernelspec": {
   "display_name": "tomopt",
   "language": "python",
   "name": "python3"
  },
  "language_info": {
   "codemirror_mode": {
    "name": "ipython",
    "version": 3
   },
   "file_extension": ".py",
   "mimetype": "text/x-python",
   "name": "python",
   "nbconvert_exporter": "python",
   "pygments_lexer": "ipython3",
   "version": "3.8.16"
  }
 },
 "nbformat": 4,
 "nbformat_minor": 5
}
