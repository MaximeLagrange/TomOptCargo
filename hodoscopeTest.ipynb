{
 "cells": [
  {
   "cell_type": "markdown",
   "id": "20686ab8",
   "metadata": {},
   "source": [
    "## Layers and hodoscopes\n",
    "\n",
    "\n",
    "The default *layer* class `PanelDetectorLayer` in TomOpt uses multiple *panels* `DetectorPanel` to record muon position.\n",
    "\n",
    "`PanelDetectorLayer` inherits from the `AbsDetectorLayer` and **MUST** provide the following **methods**:\n",
    "\n",
    " - `forward`: The forward method to propagate the muons. It is a central aspect of `nn.Module`.\n",
    " - `get_cost`\n",
    " - `conform_detector`\n",
    "  - `assign_budget`\n",
    "\n",
    "and the following **features**:\n",
    "\n",
    " - `pos`: the position of the layer, either `above` or `bellow`. \n",
    " - `lw`: the length and width of the layer.\n",
    " - `z`: the z position of the top of gthe layer. \n",
    " - `size`: the heigth of the layer such that z - size is the bottom of the layer.\n",
    " - `device`: torch.device."
   ]
  },
  {
   "cell_type": "code",
   "execution_count": 3,
   "id": "d203feff",
   "metadata": {},
   "outputs": [
    {
     "ename": "TypeError",
     "evalue": "__init__() got an unexpected keyword argument 'panel_type'",
     "output_type": "error",
     "traceback": [
      "\u001b[1;31m---------------------------------------------------------------------------\u001b[0m",
      "\u001b[1;31mTypeError\u001b[0m                                 Traceback (most recent call last)",
      "\u001b[1;32m<ipython-input-3-b62eacdddfe1>\u001b[0m in \u001b[0;36m<module>\u001b[1;34m\u001b[0m\n\u001b[0;32m      4\u001b[0m \u001b[1;32mfrom\u001b[0m \u001b[0mhodoscopelayer\u001b[0m \u001b[1;32mimport\u001b[0m \u001b[0mHodoscopeDetectorLayer\u001b[0m\u001b[1;33m\u001b[0m\u001b[1;33m\u001b[0m\u001b[0m\n\u001b[0;32m      5\u001b[0m \u001b[1;33m\u001b[0m\u001b[0m\n\u001b[1;32m----> 6\u001b[1;33m hod1 = Hodoscope(init_xyz= [.5, .5, 1.], \n\u001b[0m\u001b[0;32m      7\u001b[0m                  \u001b[0minit_xyz_span\u001b[0m \u001b[1;33m=\u001b[0m \u001b[1;33m[\u001b[0m\u001b[1;36m1.\u001b[0m\u001b[1;33m,\u001b[0m \u001b[1;36m1.\u001b[0m\u001b[1;33m,\u001b[0m \u001b[1;36m.3\u001b[0m\u001b[1;33m]\u001b[0m\u001b[1;33m,\u001b[0m\u001b[1;33m\u001b[0m\u001b[1;33m\u001b[0m\u001b[0m\n\u001b[0;32m      8\u001b[0m                  \u001b[0mxyz_gap\u001b[0m \u001b[1;33m=\u001b[0m \u001b[1;33m[\u001b[0m\u001b[1;36m.1\u001b[0m\u001b[1;33m,\u001b[0m \u001b[1;36m.1\u001b[0m\u001b[1;33m,\u001b[0m \u001b[1;36m.1\u001b[0m\u001b[1;33m]\u001b[0m\u001b[1;33m,\u001b[0m\u001b[1;33m\u001b[0m\u001b[1;33m\u001b[0m\u001b[0m\n",
      "\u001b[1;31mTypeError\u001b[0m: __init__() got an unexpected keyword argument 'panel_type'"
     ]
    }
   ],
   "source": [
    "from torch import Tensor\n",
    "# from torch import nn\n",
    "from hodoscope import Hodoscope\n",
    "from hodoscopelayer import HodoscopeDetectorLayer\n",
    "\n",
    "hod1 = Hodoscope(init_xyz= [.5, .5, 1.], \n",
    "                 init_xyz_span = [1., 1., .3], \n",
    "                 xyz_gap = [.1, .1, .1],\n",
    "                 panel_type = 'DetectorPanel')\n",
    "\n",
    "hod2 = Hodoscope(smooth=0.5,\n",
    "                 init_xyz = [0.25, 0.25, 0.6], \n",
    "                 init_xyz_span = [1., 1., .3], \n",
    "                 xyz_gap = [.1, .1, .1])\n",
    "\n",
    "\n",
    "hods = [hod1, hod2]\n",
    "\n",
    "hod_detector_above = HodoscopeDetectorLayer(pos = 'above', lw = Tensor([1,1]), z = 1., size = 0.5, \n",
    "                                            hodoscopes = hods)\n",
    "\n"
   ]
  },
  {
   "cell_type": "code",
   "execution_count": null,
   "id": "3b5c4dd7",
   "metadata": {},
   "outputs": [],
   "source": []
  }
 ],
 "metadata": {
  "kernelspec": {
   "display_name": "Python (tomopt)",
   "language": "python",
   "name": "tomopt"
  },
  "language_info": {
   "codemirror_mode": {
    "name": "ipython",
    "version": 3
   },
   "file_extension": ".py",
   "mimetype": "text/x-python",
   "name": "python",
   "nbconvert_exporter": "python",
   "pygments_lexer": "ipython3",
   "version": "3.8.3"
  }
 },
 "nbformat": 4,
 "nbformat_minor": 5
}
