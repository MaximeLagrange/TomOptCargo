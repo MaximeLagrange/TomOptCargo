{
 "cells": [
  {
   "cell_type": "code",
   "execution_count": 1,
   "id": "3e843f17",
   "metadata": {},
   "outputs": [
    {
     "name": "stdout",
     "output_type": "stream",
     "text": [
      "Hodoscope has xy=tensor([2., 3.]), z=tensor([5.])\n",
      "\t Panel has xy=tensor([2., 3.]), z=tensor([5.])\n",
      "\t Panel has xy=tensor([2., 3.]), z=tensor([5.3000])\n",
      "\t Panel has xy=tensor([2., 3.]), z=tensor([5.9000])\n",
      "Hodoscope has xy=tensor([1., 2.]), z=tensor([8.])\n",
      "\t Panel has xy=tensor([1., 2.]), z=tensor([8.])\n",
      "\t Panel has xy=tensor([1., 2.]), z=tensor([8.3000])\n",
      "\t Panel has xy=tensor([1., 2.]), z=tensor([8.9000])\n"
     ]
    }
   ],
   "source": [
    "import torch \n",
    "from torch import nn\n",
    "class DetectorPanel(nn.Module):\n",
    "    def __init__(self, xy, z):\n",
    "        super().__init__()\n",
    "        self.xy = xy\n",
    "        self.z = z\n",
    "    def updatez(self, z):\n",
    "        self.z = z\n",
    "\n",
    "    def print(self):\n",
    "        print(f\"\\t Panel has xy={self.xy.data}, z={self.z.data}\")\n",
    "\n",
    "class GDetectorPanel(nn.Module):\n",
    "    def __init__(self, xy, z, globz):\n",
    "        super().__init__()\n",
    "        self.xy = xy\n",
    "        self.z = z\n",
    "        self.globalz = globz\n",
    "    def updatez(self, z):\n",
    "        self.z = z\n",
    "\n",
    "    def print(self):\n",
    "        print(f\"\\t Panel has xy={self.xy.data}, z={self.z.data+self.globalz.data}\")\n",
    " \n",
    "class Hodoscope(nn.Module):\n",
    "    def __init__(self, xy, z):\n",
    "        super().__init__()\n",
    "        self.xy = nn.parameter.Parameter(data=xy, requires_grad=True)\n",
    "        self.z = nn.parameter.Parameter(data=z, requires_grad=True)\n",
    "        self.panels = []\n",
    "        \n",
    "    def generatePanels(self, relzs):\n",
    "        self.positionList= [nn.parameter.Parameter(data=i, requires_grad=False) for i in relzs]\n",
    "        for z in self.positionList:\n",
    "            globalz=torch.nn.parameter.Parameter(data=self.z+z,requires_grad=True)\n",
    "            self.panels.append(DetectorPanel(self.xy,globalz))\n",
    "    def generateGPanels(self, relzs):\n",
    "        self.positionList= [nn.parameter.Parameter(data=i, requires_grad=False) for i in relzs]\n",
    "        for z in self.positionList:\n",
    "            globalz=torch.nn.parameter.Parameter(data=self.z+z,requires_grad=True)\n",
    "            self.panels.append(GDetectorPanel(self.xy,z, self.z))\n",
    "\n",
    "    def print(self):\n",
    "        print(f\"Hodoscope has xy={self.xy.data}, z={self.z.data}\")\n",
    "            \n",
    "    def printPanels(self):\n",
    "        for panel in self.panels:\n",
    "            panel.print()\n",
    "            \n",
    "            \n",
    "    def modifyPosition(self, xy, z):\n",
    "        #self.xy = nn.parameter.Parameter(xy)\n",
    "        #self.z = nn.parameter.Parameter(z)\n",
    "        self.xy.data = xy\n",
    "        self.z.data = z\n",
    "        #for panel, relz in zip(self.panels,self.positionList):\n",
    "        #    panel.updatez(self.z+relz)\n",
    "        \n",
    "hod = Hodoscope(torch.Tensor([2,3]), torch.Tensor([5]))\n",
    "positionList=torch.Tensor([0.,0.3,0.9])\n",
    "\n",
    "hod.generateGPanels(positionList)\n",
    "hod.print()\n",
    "\n",
    "hod.printPanels()\n",
    "\n",
    "hod.modifyPosition(torch.Tensor([1,2]), torch.Tensor([8]))\n",
    "\n",
    "hod.print()\n",
    "hod.printPanels()"
   ]
  },
  {
   "cell_type": "code",
   "execution_count": null,
   "id": "5c881527",
   "metadata": {},
   "outputs": [],
   "source": []
  }
 ],
 "metadata": {
  "kernelspec": {
   "display_name": "Python 3 (ipykernel)",
   "language": "python",
   "name": "python3"
  },
  "language_info": {
   "codemirror_mode": {
    "name": "ipython",
    "version": 3
   },
   "file_extension": ".py",
   "mimetype": "text/x-python",
   "name": "python",
   "nbconvert_exporter": "python",
   "pygments_lexer": "ipython3",
   "version": "3.10.13"
  }
 },
 "nbformat": 4,
 "nbformat_minor": 5
}
